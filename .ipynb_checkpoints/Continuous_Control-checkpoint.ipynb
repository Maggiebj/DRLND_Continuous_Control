{
 "cells": [
  {
   "cell_type": "markdown",
   "metadata": {},
   "source": [
    "# Continuous Control\n",
    "\n",
    "---\n",
    "\n",
    "In this notebook, you will learn how to use the Unity ML-Agents environment for the second project of the [Deep Reinforcement Learning Nanodegree](https://www.udacity.com/course/deep-reinforcement-learning-nanodegree--nd893) program.\n",
    "\n",
    "### 1. Start the Environment\n",
    "\n",
    "We begin by importing the necessary packages.  If the code cell below returns an error, please revisit the project instructions to double-check that you have installed [Unity ML-Agents](https://github.com/Unity-Technologies/ml-agents/blob/master/docs/Installation.md) and [NumPy](http://www.numpy.org/)."
   ]
  },
  {
   "cell_type": "code",
   "execution_count": 1,
   "metadata": {
    "ExecutionIndicator": {
     "show": true
    },
    "execution": {
     "iopub.execute_input": "2023-08-20T02:53:01.090849Z",
     "iopub.status.busy": "2023-08-20T02:53:01.090651Z",
     "iopub.status.idle": "2023-08-20T02:53:02.151860Z",
     "shell.execute_reply": "2023-08-20T02:53:02.150956Z",
     "shell.execute_reply.started": "2023-08-20T02:53:01.090815Z"
    },
    "tags": []
   },
   "outputs": [],
   "source": [
    "from unityagents import UnityEnvironment\n",
    "#Unity Machine Learning Agents allows researchers and developers to transform games and simulations created \n",
    "#using the Unity Editor into environments where intelligent agents can be trained using reinforcement learning, \n",
    "#evolutionary strategies, or other machine learning methods through a simple to use Python API.\n",
    "\n",
    "import numpy as np\n",
    "import random\n",
    "import torch\n",
    "from collections import deque\n",
    "import matplotlib.pyplot as plt\n",
    "import os\n",
    "%matplotlib inline\n",
    "\n",
    "from ddpg_agent import Agent"
   ]
  },
  {
   "cell_type": "markdown",
   "metadata": {},
   "source": [
    "Next, we will start the environment!  **_Before running the code cell below_**, change the `file_name` parameter to match the location of the Unity environment that you downloaded.\n",
    "\n",
    "- **Mac**: `\"path/to/Reacher.app\"`\n",
    "- **Windows** (x86): `\"path/to/Reacher_Windows_x86/Reacher.exe\"`\n",
    "- **Windows** (x86_64): `\"path/to/Reacher_Windows_x86_64/Reacher.exe\"`\n",
    "- **Linux** (x86): `\"path/to/Reacher_Linux/Reacher.x86\"`\n",
    "- **Linux** (x86_64): `\"path/to/Reacher_Linux/Reacher.x86_64\"`\n",
    "- **Linux** (x86, headless): `\"path/to/Reacher_Linux_NoVis/Reacher.x86\"`\n",
    "- **Linux** (x86_64, headless): `\"path/to/Reacher_Linux_NoVis/Reacher.x86_64\"`\n",
    "\n",
    "For instance, if you are using a Mac, then you downloaded `Reacher.app`.  If this file is in the same folder as the notebook, then the line below should appear as follows:\n",
    "```\n",
    "env = UnityEnvironment(file_name=\"Reacher.app\")\n",
    "```"
   ]
  },
  {
   "cell_type": "code",
   "execution_count": 2,
   "metadata": {
    "execution": {
     "iopub.execute_input": "2023-08-20T02:53:02.155127Z",
     "iopub.status.busy": "2023-08-20T02:53:02.154802Z",
     "iopub.status.idle": "2023-08-20T02:53:02.510137Z",
     "shell.execute_reply": "2023-08-20T02:53:02.509382Z",
     "shell.execute_reply.started": "2023-08-20T02:53:02.155075Z"
    },
    "scrolled": true,
    "tags": []
   },
   "outputs": [
    {
     "name": "stderr",
     "output_type": "stream",
     "text": [
      "INFO:unityagents:\n",
      "'Academy' started successfully!\n",
      "Unity Academy name: Academy\n",
      "        Number of Brains: 1\n",
      "        Number of External Brains : 1\n",
      "        Lesson number : 0\n",
      "        Reset Parameters :\n",
      "\t\tgoal_speed -> 1.0\n",
      "\t\tgoal_size -> 5.0\n",
      "Unity brain name: ReacherBrain\n",
      "        Number of Visual Observations (per agent): 0\n",
      "        Vector Observation space type: continuous\n",
      "        Vector Observation space size (per agent): 33\n",
      "        Number of stacked Vector Observation: 1\n",
      "        Vector Action space type: continuous\n",
      "        Vector Action space size (per agent): 4\n",
      "        Vector Action descriptions: , , , \n"
     ]
    }
   ],
   "source": [
    "env = UnityEnvironment(file_name='Reacher_Linux_NoVis/Reacher_Linux_NoVis/Reacher.x86_64')#\"headless\" version of the environment. \n",
    "\n",
    "#env = UnityEnvironment(file_name='Reacher_Linux/Reacher_Linux/Reacher.x86_64')#需要enable virtual screen\n",
    "#https://github.com/Unity-Technologies/ml-agents/blob/main/docs/Training-on-Amazon-Web-Service.md"
   ]
  },
  {
   "cell_type": "code",
   "execution_count": 3,
   "metadata": {
    "execution": {
     "iopub.execute_input": "2023-08-20T02:53:02.515719Z",
     "iopub.status.busy": "2023-08-20T02:53:02.515524Z",
     "iopub.status.idle": "2023-08-20T02:53:02.519980Z",
     "shell.execute_reply": "2023-08-20T02:53:02.519323Z",
     "shell.execute_reply.started": "2023-08-20T02:53:02.515687Z"
    },
    "tags": []
   },
   "outputs": [
    {
     "name": "stdout",
     "output_type": "stream",
     "text": [
      "Unity brain name: ReacherBrain\n",
      "        Number of Visual Observations (per agent): 0\n",
      "        Vector Observation space type: continuous\n",
      "        Vector Observation space size (per agent): 33\n",
      "        Number of stacked Vector Observation: 1\n",
      "        Vector Action space type: continuous\n",
      "        Vector Action space size (per agent): 4\n",
      "        Vector Action descriptions: , , , \n"
     ]
    }
   ],
   "source": [
    "# get the default brain\n",
    "brain_name = env.brain_names[0]\n",
    "brain = env.brains[brain_name]\n",
    "print (brain)"
   ]
  },
  {
   "cell_type": "markdown",
   "metadata": {},
   "source": [
    "Environments contain **_brains_** which are responsible for deciding the actions of their associated agents. Here we check for the first brain available, and set it as the default brain we will be controlling from Python."
   ]
  },
  {
   "cell_type": "markdown",
   "metadata": {},
   "source": [
    "### 2. Examine the State and Action Spaces\n",
    "\n",
    "In this environment, a double-jointed arm can move to target locations. A reward of `+0.1` is provided for each step that the agent's hand is in the goal location. Thus, the goal of your agent is to maintain its position at the target location for as many time steps as possible.\n",
    "\n",
    "The observation space consists of `33` variables corresponding to position, rotation, velocity, and angular velocities of the arm.  Each action is a vector with four numbers, corresponding to torque applicable to two joints.  Every entry in the action vector must be a number between `-1` and `1`.\n",
    "\n",
    "Run the code cell below to print some information about the environment."
   ]
  },
  {
   "cell_type": "code",
   "execution_count": 4,
   "metadata": {
    "execution": {
     "iopub.execute_input": "2023-08-20T02:53:02.521236Z",
     "iopub.status.busy": "2023-08-20T02:53:02.521051Z",
     "iopub.status.idle": "2023-08-20T02:53:02.592673Z",
     "shell.execute_reply": "2023-08-20T02:53:02.591831Z",
     "shell.execute_reply.started": "2023-08-20T02:53:02.521208Z"
    },
    "tags": []
   },
   "outputs": [
    {
     "name": "stdout",
     "output_type": "stream",
     "text": [
      "Number of agents: 1\n",
      "Size of each action: 4\n",
      "There are 1 agents. Each observes a state with length: 33\n",
      "The state for the first agent looks like: [ 0.00000000e+00 -4.00000000e+00  0.00000000e+00  1.00000000e+00\n",
      " -0.00000000e+00 -0.00000000e+00 -4.37113883e-08  0.00000000e+00\n",
      "  0.00000000e+00  0.00000000e+00  0.00000000e+00  0.00000000e+00\n",
      "  0.00000000e+00  0.00000000e+00 -1.00000000e+01  0.00000000e+00\n",
      "  1.00000000e+00 -0.00000000e+00 -0.00000000e+00 -4.37113883e-08\n",
      "  0.00000000e+00  0.00000000e+00  0.00000000e+00  0.00000000e+00\n",
      "  0.00000000e+00  0.00000000e+00  5.75471878e+00 -1.00000000e+00\n",
      "  5.55726671e+00  0.00000000e+00  1.00000000e+00  0.00000000e+00\n",
      " -1.68164849e-01]\n"
     ]
    }
   ],
   "source": [
    "# reset the environment\n",
    "env_info = env.reset(train_mode=True)[brain_name]\n",
    "\n",
    "# number of agents\n",
    "num_agents = len(env_info.agents)\n",
    "print('Number of agents:', num_agents)\n",
    "\n",
    "# size of each action\n",
    "action_size = brain.vector_action_space_size\n",
    "print('Size of each action:', action_size)\n",
    "\n",
    "# examine the state space \n",
    "states = env_info.vector_observations\n",
    "state_size = states.shape[1]\n",
    "print('There are {} agents. Each observes a state with length: {}'.format(states.shape[0], state_size))\n",
    "print('The state for the first agent looks like:', states[0])"
   ]
  },
  {
   "cell_type": "markdown",
   "metadata": {},
   "source": [
    "### 3. Take Random Actions in the Environment\n",
    "\n",
    "In the next code cell, you will learn how to use the Python API to control the agent and receive feedback from the environment.\n",
    "\n",
    "Once this cell is executed, you will watch the agent's performance, if it selects an action at random with each time step.  A window should pop up that allows you to observe the agent, as it moves through the environment.  \n",
    "\n",
    "Of course, as part of the project, you'll have to change the code so that the agent is able to use its experience to gradually choose better actions when interacting with the environment!"
   ]
  },
  {
   "cell_type": "code",
   "execution_count": 5,
   "metadata": {
    "execution": {
     "iopub.execute_input": "2023-08-20T02:53:02.594110Z",
     "iopub.status.busy": "2023-08-20T02:53:02.593871Z",
     "iopub.status.idle": "2023-08-20T02:53:02.600761Z",
     "shell.execute_reply": "2023-08-20T02:53:02.600028Z",
     "shell.execute_reply.started": "2023-08-20T02:53:02.594079Z"
    }
   },
   "outputs": [
    {
     "data": {
      "text/plain": [
       "\"\\nenv_info = env.reset(train_mode=False)[brain_name]     # reset the environment    \\nstates = env_info.vector_observations                  # get the current state (for each agent)\\nscores = np.zeros(num_agents)                          # initialize the score (for each agent)\\nwhile True:\\n    actions = np.random.randn(num_agents, action_size) # select an action (for each agent)\\n    actions = np.clip(actions, -1, 1)                  # all actions between -1 and 1\\n    env_info = env.step(actions)[brain_name]           # send all actions to tne environment\\n    next_states = env_info.vector_observations         # get next state (for each agent)\\n    rewards = env_info.rewards                         # get reward (for each agent)\\n    dones = env_info.local_done                        # see if episode finished\\n    scores += env_info.rewards                         # update the score (for each agent)\\n    states = next_states                               # roll over states to next time step\\n    if np.any(dones):                                  # exit loop if episode finished\\n        break\\nprint('Total score (averaged over agents) this episode: {}'.format(np.mean(scores)))\\n\""
      ]
     },
     "execution_count": 5,
     "metadata": {},
     "output_type": "execute_result"
    }
   ],
   "source": [
    "'''\n",
    "env_info = env.reset(train_mode=False)[brain_name]     # reset the environment    \n",
    "states = env_info.vector_observations                  # get the current state (for each agent)\n",
    "scores = np.zeros(num_agents)                          # initialize the score (for each agent)\n",
    "while True:\n",
    "    actions = np.random.randn(num_agents, action_size) # select an action (for each agent)\n",
    "    actions = np.clip(actions, -1, 1)                  # all actions between -1 and 1\n",
    "    env_info = env.step(actions)[brain_name]           # send all actions to tne environment\n",
    "    next_states = env_info.vector_observations         # get next state (for each agent)\n",
    "    rewards = env_info.rewards                         # get reward (for each agent)\n",
    "    dones = env_info.local_done                        # see if episode finished\n",
    "    scores += env_info.rewards                         # update the score (for each agent)\n",
    "    states = next_states                               # roll over states to next time step\n",
    "    if np.any(dones):                                  # exit loop if episode finished\n",
    "        break\n",
    "print('Total score (averaged over agents) this episode: {}'.format(np.mean(scores)))\n",
    "'''"
   ]
  },
  {
   "cell_type": "markdown",
   "metadata": {},
   "source": [
    "When finished, you can close the environment."
   ]
  },
  {
   "cell_type": "code",
   "execution_count": 6,
   "metadata": {
    "execution": {
     "iopub.execute_input": "2023-08-20T02:53:02.603256Z",
     "iopub.status.busy": "2023-08-20T02:53:02.603050Z",
     "iopub.status.idle": "2023-08-20T02:53:02.606283Z",
     "shell.execute_reply": "2023-08-20T02:53:02.605550Z",
     "shell.execute_reply.started": "2023-08-20T02:53:02.603227Z"
    }
   },
   "outputs": [],
   "source": [
    "#env.close()"
   ]
  },
  {
   "cell_type": "markdown",
   "metadata": {},
   "source": [
    "### 4. It's Your Turn!\n",
    "\n",
    "Now it's your turn to train your own agent to solve the environment!  When training the environment, set `train_mode=True`, so that the line for resetting the environment looks like the following:\n",
    "```python\n",
    "env_info = env.reset(train_mode=True)[brain_name]\n",
    "```"
   ]
  },
  {
   "cell_type": "code",
   "execution_count": 7,
   "metadata": {
    "ExecutionIndicator": {
     "show": true
    },
    "execution": {
     "iopub.execute_input": "2023-08-20T02:53:02.607743Z",
     "iopub.status.busy": "2023-08-20T02:53:02.607548Z",
     "iopub.status.idle": "2023-08-20T02:53:04.237798Z",
     "shell.execute_reply": "2023-08-20T02:53:04.236910Z",
     "shell.execute_reply.started": "2023-08-20T02:53:02.607716Z"
    },
    "tags": []
   },
   "outputs": [],
   "source": [
    "env_info = env.reset(train_mode=True)[brain_name]\n",
    "#agent = Agent(state_size=state_size, action_size=action_size, random_seed=2)\n",
    "agent = Agent(state_size=state_size,\n",
    "              action_size=action_size,\n",
    "              random_seed=10)"
   ]
  },
  {
   "cell_type": "code",
   "execution_count": 8,
   "metadata": {
    "ExecutionIndicator": {
     "show": false
    },
    "execution": {
     "iopub.execute_input": "2023-08-20T02:53:04.239246Z",
     "iopub.status.busy": "2023-08-20T02:53:04.239023Z",
     "iopub.status.idle": "2023-08-20T02:53:04.243992Z",
     "shell.execute_reply": "2023-08-20T02:53:04.243283Z",
     "shell.execute_reply.started": "2023-08-20T02:53:04.239215Z"
    },
    "tags": []
   },
   "outputs": [
    {
     "name": "stdout",
     "output_type": "stream",
     "text": [
      "(1, 4)\n"
     ]
    }
   ],
   "source": [
    "#查看brain_info的attributes\n",
    "actions = np.random.randn(num_agents, action_size) # select an action (for each agent)\n",
    "actions = np.clip(actions, -1, 1)\n",
    "print (actions.shape)"
   ]
  },
  {
   "cell_type": "code",
   "execution_count": 9,
   "metadata": {
    "ExecutionIndicator": {
     "show": true
    },
    "execution": {
     "iopub.execute_input": "2023-08-20T02:53:04.245363Z",
     "iopub.status.busy": "2023-08-20T02:53:04.245165Z",
     "iopub.status.idle": "2023-08-20T02:53:04.260495Z",
     "shell.execute_reply": "2023-08-20T02:53:04.259780Z",
     "shell.execute_reply.started": "2023-08-20T02:53:04.245335Z"
    },
    "tags": []
   },
   "outputs": [
    {
     "name": "stdout",
     "output_type": "stream",
     "text": [
      "[[ 2.81143188e-02 -3.99855494e+00 -1.14045896e-01  9.99893308e-01\n",
      "   3.49653768e-03  4.18210147e-05 -1.41855162e-02  5.64417183e-01\n",
      "  -2.36597727e-03  1.38369367e-01  5.56342542e-01  4.11464460e-02\n",
      "  -2.26865196e+00 -5.42373657e-02 -9.99284935e+00 -3.91119495e-02\n",
      "   9.99495685e-01 -1.72130410e-02  6.23845728e-04  2.66808923e-02\n",
      "  -1.06254411e+00 -3.57924551e-02 -6.85198247e-01 -2.08426690e+00\n",
      "   2.87270606e-01  7.65759766e-01 -6.11648560e+00 -1.00000000e+00\n",
      "  -5.15641546e+00  0.00000000e+00  1.00000000e+00  0.00000000e+00\n",
      "  -5.33014059e-01]] [] [0.0] [False] [[ 0.44965795 -1.         -0.63349879 -1.        ]]\n",
      "[922]\n"
     ]
    }
   ],
   "source": [
    "#explore attributes of BrianInfo\n",
    "step_info = env.step(actions)[brain_name]\n",
    "\n",
    "states = step_info.vector_observations\n",
    "memories = step_info.memories\n",
    "rewards = step_info.rewards\n",
    "dones = step_info.local_done\n",
    "actions = step_info.previous_vector_actions\n",
    "agents = step_info.agents\n",
    "print (states,memories,rewards,dones,actions)\n",
    "print (agents)\n"
   ]
  },
  {
   "cell_type": "code",
   "execution_count": null,
   "metadata": {
    "ExecutionIndicator": {
     "show": true
    },
    "execution": {
     "iopub.execute_input": "2023-08-20T02:53:04.261771Z",
     "iopub.status.busy": "2023-08-20T02:53:04.261570Z"
    },
    "scrolled": true,
    "tags": []
   },
   "outputs": [
    {
     "name": "stdout",
     "output_type": "stream",
     "text": [
      "Episode 1\tAverage Score: 0.14\n",
      "Episode 2\tAverage Score: 1.38\n",
      "Episode 3\tAverage Score: 0.73\n",
      "Episode 4\tAverage Score: 1.08\n",
      "Episode 5\tAverage Score: 0.90\n",
      "Episode 6\tAverage Score: 2.15\n",
      "Episode 7\tAverage Score: 1.29\n",
      "Episode 8\tAverage Score: 1.09\n",
      "Episode 9\tAverage Score: 1.23\n",
      "Episode 10\tAverage Score: 0.53\n",
      "Episode 11\tAverage Score: 1.40\n",
      "Episode 12\tAverage Score: 0.60\n",
      "Episode 13\tAverage Score: 1.96\n",
      "Episode 14\tAverage Score: 0.56\n",
      "Episode 15\tAverage Score: 0.33\n",
      "Episode 16\tAverage Score: 0.22\n",
      "Episode 17\tAverage Score: 0.85\n",
      "Episode 18\tAverage Score: 0.94\n",
      "Episode 19\tAverage Score: 0.32\n",
      "Episode 20\tAverage Score: 1.43\n",
      "Episode 20\tAverage Score of deque: 0.96\n",
      "Episode 21\tAverage Score: 0.26\n",
      "Episode 22\tAverage Score: 0.98\n",
      "Episode 23\tAverage Score: 0.00\n",
      "Episode 24\tAverage Score: 0.12\n",
      "Episode 25\tAverage Score: 0.97\n",
      "Episode 26\tAverage Score: 0.97\n",
      "Episode 27\tAverage Score: 0.17\n",
      "Episode 28\tAverage Score: 0.56\n",
      "Episode 29\tAverage Score: 0.00\n",
      "Episode 30\tAverage Score: 0.08\n",
      "Episode 31\tAverage Score: 0.05\n",
      "Episode 32\tAverage Score: 0.93\n",
      "Episode 33\tAverage Score: 0.65\n",
      "Episode 34\tAverage Score: 0.15\n",
      "Episode 35\tAverage Score: 0.28\n",
      "Episode 36\tAverage Score: 1.19\n",
      "Episode 37\tAverage Score: 0.29\n",
      "Episode 38\tAverage Score: 1.07\n",
      "Episode 39\tAverage Score: 0.23\n",
      "Episode 40\tAverage Score: 0.87\n",
      "Episode 40\tAverage Score of deque: 0.49\n",
      "Episode 41\tAverage Score: 0.43\n",
      "Episode 42\tAverage Score: 1.00\n",
      "Episode 43\tAverage Score: 0.17\n",
      "Episode 44\tAverage Score: 0.61\n",
      "Episode 45\tAverage Score: 0.00\n",
      "Episode 46\tAverage Score: 0.22\n",
      "Episode 47\tAverage Score: 0.36\n",
      "Episode 48\tAverage Score: 0.00\n",
      "Episode 49\tAverage Score: 1.13\n",
      "Episode 50\tAverage Score: 0.00\n",
      "Episode 51\tAverage Score: 0.50\n",
      "Episode 52\tAverage Score: 0.88\n",
      "Episode 53\tAverage Score: 0.11\n",
      "Episode 54\tAverage Score: 0.70\n",
      "Episode 55\tAverage Score: 1.09\n",
      "Episode 56\tAverage Score: 0.00\n",
      "Episode 57\tAverage Score: 0.15\n",
      "Episode 58\tAverage Score: 0.99\n",
      "Episode 59\tAverage Score: 0.45\n",
      "Episode 60\tAverage Score: 0.46\n",
      "Episode 60\tAverage Score of deque: 0.46\n",
      "Episode 61\tAverage Score: 0.00\n",
      "Episode 62\tAverage Score: 0.45\n",
      "Episode 63\tAverage Score: 1.06\n",
      "Episode 64\tAverage Score: 0.40\n",
      "Episode 65\tAverage Score: 0.69\n",
      "Episode 66\tAverage Score: 0.39\n",
      "Episode 67\tAverage Score: 0.25\n",
      "Episode 68\tAverage Score: 1.55\n",
      "Episode 69\tAverage Score: 0.10\n",
      "Episode 70\tAverage Score: 0.85\n",
      "Episode 71\tAverage Score: 0.00\n",
      "Episode 72\tAverage Score: 0.24\n",
      "Episode 73\tAverage Score: 0.76\n",
      "Episode 74\tAverage Score: 0.25\n",
      "Episode 75\tAverage Score: 0.44\n"
     ]
    }
   ],
   "source": [
    "import time\n",
    "EPS_DECAY = 1e-6\n",
    "EPS_END = 0.1\n",
    "EPS_START = 1.0 \n",
    "def ddpg(n_episodes=500, max_t=1000, print_every=20):\n",
    "    scores_deque = deque(maxlen=print_every)\n",
    "    scores = []\n",
    "    eps = EPS_START\n",
    "    for i_episode in range(1, n_episodes+1):\n",
    "        env_info = env.reset(train_mode=True)[brain_name]\n",
    "        state = env_info.vector_observations #2D\n",
    "        #print (state.shape)\n",
    "        agent.reset()\n",
    "        agents_scores = np.zeros(num_agents)\n",
    "        for t in range(max_t):\n",
    "            action = agent.act(state)\n",
    "            step_info= env.step(action)[brain_name]\n",
    "            next_state = step_info.vector_observations#2D\n",
    "            reward = step_info.rewards#1D\n",
    "            done = step_info.local_done#1D\n",
    "            agent.step(state, action, reward, next_state, done)\n",
    "        \n",
    "            state = next_state\n",
    "            agents_scores += reward\n",
    "            \n",
    "            #eps = eps - EPS_DECAY\n",
    "            #eps = np.maximum(eps, EPS_END)\n",
    "            if any(done):\n",
    "                #print (\"\\t score:\",agents_scores)\n",
    "                break \n",
    "        ep_avg_agents_score = np.mean(agents_scores)\n",
    "        scores_deque.append(ep_avg_agents_score)\n",
    "        scores.append(ep_avg_agents_score)\n",
    "        print('\\rEpisode {}\\tAverage Score: {:.2f}'.format(i_episode, ep_avg_agents_score, end=\"\"))\n",
    "        torch.save(agent.actor_local.state_dict(), 'checkpoint_reacher.pth')\n",
    "        torch.save(agent.critic_local.state_dict(), 'checkpoint_reacher.pth')\n",
    "        if i_episode % print_every == 0:\n",
    "            print('\\rEpisode {}\\tAverage Score of deque: {:.2f}'.format(i_episode, np.mean(scores_deque)))\n",
    "        \n",
    "        mean = np.mean(scores_deque)\n",
    "        if mean > 30.:\n",
    "            print('\\nEnvironment solved in {:d} episodes!\\tAverage Score of deque: {:.2f}'.format(i_episode, np.mean(scores_deque)))\n",
    "            torch.save(agent.actor_local.state_dict(), 'solved_actor_trained_model.pth')\n",
    "            torch.save(agent.critic_local.state_dict(), 'solved_critic_trained_model.pth')\n",
    "            break\n",
    "            \n",
    "    return scores\n",
    "start=time.time()\n",
    "scores = ddpg()\n",
    "print (\"duration:\",(time.time()-start)/60)\n",
    "\n",
    "fig = plt.figure()\n",
    "ax = fig.add_subplot(111)\n",
    "plt.plot(np.arange(1, len(scores)+1), scores)\n",
    "plt.ylabel('Score')\n",
    "plt.xlabel('Episode #')\n",
    "plt.show()"
   ]
  },
  {
   "cell_type": "code",
   "execution_count": null,
   "metadata": {},
   "outputs": [],
   "source": []
  }
 ],
 "metadata": {
  "kernelspec": {
   "display_name": "Python 3",
   "language": "python",
   "name": "python3"
  },
  "language_info": {
   "codemirror_mode": {
    "name": "ipython",
    "version": 3
   },
   "file_extension": ".py",
   "mimetype": "text/x-python",
   "name": "python",
   "nbconvert_exporter": "python",
   "pygments_lexer": "ipython3",
   "version": "3.6.12"
  }
 },
 "nbformat": 4,
 "nbformat_minor": 4
}
